{
 "cells": [
  {
   "cell_type": "markdown",
   "metadata": {},
   "source": [
    "<h2> Taller 5 - CoppeliaSim y Python (segunda parte)</h2>\n",
    "\n",
    "<br>Requiere que los archivos 'sim.py', 'simConst.py', 'remoteapi.dll' estén alojados en la misma carpeta que este cuaderno de Jupyter\n",
    "<br>\n",
    "<br> Incluir en el script de Coppelia la línea: simRemoteApi.start(19999)"
   ]
  },
  {
   "cell_type": "code",
   "execution_count": null,
   "metadata": {},
   "outputs": [],
   "source": [
    "# importamos las librerías necesarias\n",
    "import sim\n",
    "import numpy as np"
   ]
  },
  {
   "cell_type": "markdown",
   "metadata": {},
   "source": [
    "### 1. Establecer la conexión\n",
    "Utilizaremos las funciones del API Remoto de VREP.\n",
    "<br> Para más detalles refiérase a la documentación de la librería:\n",
    "<br> http://www.coppeliarobotics.com/helpFiles/en/remoteApiFunctionsPython.htm"
   ]
  },
  {
   "cell_type": "code",
   "execution_count": null,
   "metadata": {},
   "outputs": [],
   "source": [
    "def connect(port):\n",
    "# Establece la conexión a VREP\n",
    "# port debe coincidir con el puerto de conexión en VREP\n",
    "# retorna el número de cliente o -1 si no puede establecer conexión\n",
    "    sim.simxFinish(-1) # just in case, close all opened connections\n",
    "    clientID=sim.simxStart('127.0.0.1',port,True,True,2000,5) # Conectarse\n",
    "    if clientID == 0: print(\"conectado a\", port)\n",
    "    else: print(\"no se pudo conectar\")\n",
    "    return clientID\n"
   ]
  },
  {
   "cell_type": "code",
   "execution_count": null,
   "metadata": {},
   "outputs": [],
   "source": [
    "# Conectarse al servidor de VREP\n",
    "# *** ejecutar cada vez que se reinicia la simulación ***\n",
    "clientID = connect(19999)"
   ]
  },
  {
   "cell_type": "markdown",
   "metadata": {},
   "source": [
    "<h3> 2. Obtener los manejadores (handlers)</h3>\n",
    "Un manejador (handler) es un número identificador que asigna VREP para cada uno de los elementos de la escena. A través de su manejador se puede hacer referencia a un elemento en específico de la escena."
   ]
  },
  {
   "cell_type": "code",
   "execution_count": null,
   "metadata": {},
   "outputs": [],
   "source": [
    "# Obtenemos los manejadores\n",
    "retCode,end_effector=sim.simxGetObjectHandle(clientID,'Dummy',sim.simx_opmode_blocking)\n",
    "print(end_effector)"
   ]
  },
  {
   "cell_type": "code",
   "execution_count": null,
   "metadata": {},
   "outputs": [],
   "source": [
    "# Obtenemos los manejadores para cada una de las articulaciones del robot\n",
    "ret,joint1=sim.simxGetObjectHandle(clientID,'MTB_joint1',sim.simx_opmode_blocking)\n",
    "ret,joint2=sim.simxGetObjectHandle(clientID,'MTB_joint2',sim.simx_opmode_blocking)\n",
    "ret,joint3=sim.simxGetObjectHandle(clientID,'MTB_joint3',sim.simx_opmode_blocking)\n",
    "print(joint1, joint2, joint3)"
   ]
  },
  {
   "cell_type": "markdown",
   "metadata": {},
   "source": [
    "<h3> 3. Y obtenemos alguna información adicional</h3>\n",
    "Utilizando los manejadores, podemos obtener información de los elementos."
   ]
  },
  {
   "cell_type": "code",
   "execution_count": null,
   "metadata": {},
   "outputs": [],
   "source": [
    "# posición actual del actuador final\n",
    "retCode,pos=sim.simxGetObjectPosition(clientID, end_effector, -1, sim.simx_opmode_blocking)\n",
    "print(pos)"
   ]
  },
  {
   "cell_type": "code",
   "execution_count": null,
   "metadata": {},
   "outputs": [],
   "source": [
    "# orientación actual del actuador final\n",
    "retCode,orient=sim.simxGetObjectOrientation(clientID, end_effector, -1, sim.simx_opmode_blocking)\n",
    "print(orient)"
   ]
  },
  {
   "cell_type": "code",
   "execution_count": null,
   "metadata": {},
   "outputs": [],
   "source": [
    "# posición de las articulaciones\n",
    "returnCode, pos1 = sim.simxGetJointPosition(clientID, joint1, sim.simx_opmode_blocking)\n",
    "print(pos1)"
   ]
  },
  {
   "cell_type": "markdown",
   "metadata": {},
   "source": [
    "<h3> 4. ... y movemos el robot</h3>\n",
    "Utilizando los manejadores, podemos enviar parámetros a los elementos."
   ]
  },
  {
   "cell_type": "code",
   "execution_count": null,
   "metadata": {},
   "outputs": [],
   "source": [
    "###########################\n",
    "## 0_GiroServoBase_Torax ##\n",
    "###########################\n",
    "\n",
    "#!/usr/bin/env python3\n",
    "import socket\n",
    "import time\n",
    "\n",
    "# conectamos\n",
    "clientID = connect(19999)\n",
    "\n",
    "# Definimos los datos iniciales\n",
    "HOST0 = '192.168.1.130'       # The server's hostname or IP address\n",
    "PORT0 = 65430                # The port used by the server\n",
    "\n",
    "while(True):\n",
    "    with socket.socket(socket.AF_INET, socket.SOCK_STREAM) as s0:\n",
    "        s0.connect((HOST0, PORT0))\n",
    "        \n",
    "        #Dato recibido\n",
    "        data0 = float(s0.recv(1024))\n",
    "        #print(data0)\n",
    "        \n",
    "        #La simulacion acepta radianes\n",
    "        dataR0 = data0*0.0175\n",
    "    \n",
    "        sim.simxSetJointTargetPosition(clientID, joint1, dataR0, sim.simx_opmode_oneshot)\n",
    "        #time.sleep(0.2)"
   ]
  },
  {
   "cell_type": "code",
   "execution_count": null,
   "metadata": {},
   "outputs": [],
   "source": [
    "##########################################\n",
    "## 1_GiroServoDelMedio_AntebrazoDerecho ##\n",
    "##########################################\n",
    "\n",
    "#!/usr/bin/env python3\n",
    "import socket\n",
    "import time\n",
    "\n",
    "# conectamos\n",
    "clientID = connect(19999)\n",
    "\n",
    "# Definimos los datos iniciales\n",
    "HOST1 = '192.168.1.131'       # The server's hostname or IP address\n",
    "PORT1 = 65431                # The port used by the server\n",
    "\n",
    "while(True):\n",
    "    with socket.socket(socket.AF_INET, socket.SOCK_STREAM) as s1:\n",
    "        s1.connect((HOST1, PORT1))\n",
    "        \n",
    "        #Dato recibido\n",
    "        data1 = float(s1.recv(1024))\n",
    "        #print(data1)\n",
    "        \n",
    "        #La simulacion acepta radianes\n",
    "        dataR1 = data1*0.0175\n",
    "    \n",
    "        sim.simxSetJointTargetPosition(clientID, joint2, dataR1, sim.simx_opmode_oneshot)\n",
    "        #time.sleep(0.2)"
   ]
  },
  {
   "cell_type": "code",
   "execution_count": null,
   "metadata": {},
   "outputs": [],
   "source": [
    "###############################\n",
    "## 2_GiroGripper_ManoDerecha ##\n",
    "###############################\n",
    "\n",
    "#!/usr/bin/env python3\n",
    "import socket\n",
    "import time\n",
    "\n",
    "# conectamos\n",
    "clientID = connect(19999)\n",
    "\n",
    "# Definimos los datos iniciales\n",
    "HOST2 = '192.168.1.132'       # The server's hostname or IP address\n",
    "PORT2 = 65432                # The port used by the server\n",
    "\n",
    "while(True):\n",
    "    with socket.socket(socket.AF_INET, socket.SOCK_STREAM) as s2:\n",
    "        s2.connect((HOST2, PORT2))\n",
    "        \n",
    "        #Dato recibido\n",
    "        data2 = float(s2.recv(1024))\n",
    "        #print(data2)\n",
    "        \n",
    "        #La simulacion acepta radianes\n",
    "        dataR2 = data2*0.0175\n",
    "    \n",
    "        sim.simxSetJointTargetPosition(clientID, end_effector, dataR2, sim.simx_opmode_oneshot)\n",
    "        #time.sleep(0.2)"
   ]
  },
  {
   "cell_type": "code",
   "execution_count": null,
   "metadata": {},
   "outputs": [],
   "source": [
    "#############################################################\n",
    "## 3_AlturaGripper-y-4_AperturaCierreGripper_ManoIzquierda ##\n",
    "#############################################################\n",
    "\n",
    "#!/usr/bin/env python3\n",
    "import socket\n",
    "import time\n",
    "\n",
    "# conectamos\n",
    "clientID = connect(19999)\n",
    "\n",
    "# Definimos los datos iniciales\n",
    "HOST3 = '192.168.1.133'       # The server's hostname or IP address\n",
    "PORT3 = 65433                # The port used by the server\n",
    "\n",
    "while(True):\n",
    "    with socket.socket(socket.AF_INET, socket.SOCK_STREAM) as s3:\n",
    "        s3.connect((HOST3, PORT3))\n",
    "        \n",
    "        #Dato recibido\n",
    "        data = (s3.recv(1024))\n",
    "        dataV = data.decode('ASCII')\n",
    "        \n",
    "        #Separar el string en partes\n",
    "        dataN = dataV.split(\"/\")\n",
    "        \n",
    "        #Altura Gripper\n",
    "        data3 =float(dataN[0])\n",
    "        #Apertura y cierre Gripper\n",
    "        data4 =float(dataN[1])\n",
    "        \n",
    "        #print(float(data3), float(data4))\n",
    "        \n",
    "        #La simulacion acepta radianes\n",
    "        data4 = data4*0.0175\n",
    "    \n",
    "        #sim.simxSetJointTargetPosition(clientID, joint3, dataR3, sim.simx_opmode_oneshot)\n",
    "        #sim.simxSetJointTargetPosition(clientID, joint4, dataR0, sim.simx_opmode_oneshot)\n",
    "        #time.sleep(0.2)"
   ]
  },
  {
   "cell_type": "code",
   "execution_count": null,
   "metadata": {},
   "outputs": [],
   "source": [
    "##########################################\n",
    "## 1_GiroServoDelMedio_AntebrazoDerecho ##\n",
    "##########################################\n",
    "\n",
    "#!/usr/bin/env python3\n",
    "import socket\n",
    "import time\n",
    "\n",
    "# conectamos\n",
    "clientID = connect(19999)\n",
    "\n",
    "# Definimos los datos iniciales\n",
    "HOST1 = '192.168.1.131'       # The server's hostname or IP address\n",
    "PORT1 = 65431                # The port used by the server\n",
    "\n",
    "# Definimos los datos iniciales\n",
    "HOST2 = '192.168.1.132'       # The server's hostname or IP address\n",
    "PORT2 = 65432                # The port used by the server\n",
    "\n",
    "while(True):\n",
    "    with socket.socket(socket.AF_INET, socket.SOCK_STREAM) as s1:\n",
    "        s1.connect((HOST1, PORT1))\n",
    "        \n",
    "        #Dato recibido\n",
    "        data1 = float(s1.recv(1024))\n",
    "        #print(data1)\n",
    "        \n",
    "        #La simulacion acepta radianes\n",
    "        dataR1 = data1*0.0175\n",
    "    \n",
    "        sim.simxSetJointTargetPosition(clientID, joint2, dataR1, sim.simx_opmode_oneshot)\n",
    "        #time.sleep(0.2)\n",
    "        \n",
    "    with socket.socket(socket.AF_INET, socket.SOCK_STREAM) as s2:\n",
    "        s2.connect((HOST2, PORT2))\n",
    "        \n",
    "        #Dato recibido\n",
    "        data2 = float(s2.recv(1024))\n",
    "        #print(data2)\n",
    "        \n",
    "        #La simulacion acepta radianes\n",
    "        dataR2 = data2*0.0175\n",
    "    \n",
    "        #sim.simxSetJointTargetPosition(clientID, end_effector, dataR2, sim.simx_opmode_oneshot)\n",
    "        #time.sleep(0.2)\n",
    "        \n",
    "        #PROBANDO\n",
    "        sim.simxSetJointTargetPosition(clientID, joint1, dataR2, sim.simx_opmode_oneshot)"
   ]
  },
  {
   "cell_type": "code",
   "execution_count": null,
   "metadata": {},
   "outputs": [],
   "source": []
  }
 ],
 "metadata": {
  "kernelspec": {
   "display_name": "Python 3",
   "language": "python",
   "name": "python3"
  },
  "language_info": {
   "codemirror_mode": {
    "name": "ipython",
    "version": 3
   },
   "file_extension": ".py",
   "mimetype": "text/x-python",
   "name": "python",
   "nbconvert_exporter": "python",
   "pygments_lexer": "ipython3",
   "version": "3.6.9"
  }
 },
 "nbformat": 4,
 "nbformat_minor": 4
}
