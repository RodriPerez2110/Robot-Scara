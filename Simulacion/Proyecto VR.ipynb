{
 "cells": [
  {
   "cell_type": "markdown",
   "metadata": {},
   "source": [
    "<h1> Proyecto Realidad Virtual - UNCUYO</h1>\n",
    "<h3> Carlos Bustillo - Rodrigo Pérez</h3>\n",
    "\n",
    "<br>Requiere que los archivos 'sim.py', 'simConst.py', 'remoteapi.dll' estén alojados en la misma carpeta que este cuaderno de Jupyter\n",
    "<br>\n",
    "<br> Incluir en el script de Coppelia la línea: simRemoteApi.start(19999)"
   ]
  },
  {
   "cell_type": "code",
   "execution_count": 1,
   "metadata": {},
   "outputs": [],
   "source": [
    "# importamos las librerías necesarias\n",
    "import sim\n",
    "import numpy as np"
   ]
  },
  {
   "cell_type": "markdown",
   "metadata": {},
   "source": [
    "### 1. Establecer la conexión\n",
    "Utilizaremos las funciones del API Remoto de VREP.\n",
    "<br> Para más detalles refiérase a la documentación de la librería:\n",
    "<br> http://www.coppeliarobotics.com/helpFiles/en/remoteApiFunctionsPython.htm"
   ]
  },
  {
   "cell_type": "code",
   "execution_count": 2,
   "metadata": {},
   "outputs": [],
   "source": [
    "def connect(port):\n",
    "# Establece la conexión a VREP\n",
    "# port debe coincidir con el puerto de conexión en VREP\n",
    "# retorna el número de cliente o -1 si no puede establecer conexión\n",
    "    sim.simxFinish(-1) # just in case, close all opened connections\n",
    "    clientID=sim.simxStart('127.0.0.1',port,True,True,2000,5) # Conectarse\n",
    "    if clientID == 0: print(\"conectado a\", port)\n",
    "    else: print(\"no se pudo conectar\")\n",
    "    return clientID\n"
   ]
  },
  {
   "cell_type": "code",
   "execution_count": 4,
   "metadata": {},
   "outputs": [
    {
     "name": "stdout",
     "output_type": "stream",
     "text": [
      "conectado a 19999\n"
     ]
    }
   ],
   "source": [
    "# Conectarse al servidor de VREP\n",
    "# *** ejecutar cada vez que se reinicia la simulación ***\n",
    "clientID = connect(19999)"
   ]
  },
  {
   "cell_type": "markdown",
   "metadata": {},
   "source": [
    "<h3> 2. Obtener los manejadores (handlers)</h3>\n",
    "Un manejador (handler) es un número identificador que asigna VREP para cada uno de los elementos de la escena. A través de su manejador se puede hacer referencia a un elemento en específico de la escena."
   ]
  },
  {
   "cell_type": "code",
   "execution_count": 5,
   "metadata": {},
   "outputs": [
    {
     "name": "stdout",
     "output_type": "stream",
     "text": [
      "21 22 25\n"
     ]
    }
   ],
   "source": [
    "# Obtenemos los manejadores para cada una de las articulaciones del robot\n",
    "ret,end_effector=sim.simxGetObjectHandle(clientID,'Dummy',sim.simx_opmode_blocking)\n",
    "\n",
    "ret,joint1=sim.simxGetObjectHandle(clientID,'MTB_joint1',sim.simx_opmode_blocking)\n",
    "ret,joint2=sim.simxGetObjectHandle(clientID,'MTB_joint2',sim.simx_opmode_blocking)\n",
    "ret,joint3=sim.simxGetObjectHandle(clientID,'MTB_joint3',sim.simx_opmode_blocking)\n",
    "print(joint1, joint2, joint3)"
   ]
  },
  {
   "cell_type": "code",
   "execution_count": 6,
   "metadata": {},
   "outputs": [
    {
     "name": "stdout",
     "output_type": "stream",
     "text": [
      "conectado a 19999\n"
     ]
    }
   ],
   "source": [
    "#Prueba para controlar los manejadores\n",
    "import sim\n",
    "# conectamos\n",
    "clientID = connect(19999)\n",
    "\n",
    "#Asignamos un valor random de prueba\n",
    "valor = 15\n",
    "\n",
    "#Definir\n",
    "ret,joint2=sim.simxGetObjectHandle(clientID,'MTB_joint2',sim.simx_opmode_blocking)\n",
    "\n",
    "retCode = sim.simxSetJointTargetPosition(clientID, joint2, valor*0.0175, sim.simx_opmode_oneshot)"
   ]
  },
  {
   "cell_type": "markdown",
   "metadata": {},
   "source": [
    "<h3> 3. Y obtenemos alguna información adicional</h3>\n",
    "Utilizando los manejadores, podemos obtener información de los elementos."
   ]
  },
  {
   "cell_type": "code",
   "execution_count": 6,
   "metadata": {},
   "outputs": [
    {
     "name": "stdout",
     "output_type": "stream",
     "text": [
      "[0.5174996852874756, 0.25, 0.5720000863075256]\n"
     ]
    }
   ],
   "source": [
    "# posición actual del actuador final\n",
    "retCode,pos=sim.simxGetObjectPosition(clientID, end_effector, -1, sim.simx_opmode_blocking)\n",
    "print(pos)"
   ]
  },
  {
   "cell_type": "code",
   "execution_count": 7,
   "metadata": {},
   "outputs": [
    {
     "name": "stdout",
     "output_type": "stream",
     "text": [
      "[-3.141592502593994, 1.2423523766852307e-21, 1.4210854715202004e-14]\n"
     ]
    }
   ],
   "source": [
    "# orientación actual del actuador final\n",
    "retCode,orient=sim.simxGetObjectOrientation(clientID, end_effector, -1, sim.simx_opmode_blocking)\n",
    "print(orient)"
   ]
  },
  {
   "cell_type": "code",
   "execution_count": 8,
   "metadata": {},
   "outputs": [
    {
     "name": "stdout",
     "output_type": "stream",
     "text": [
      "4.256788640381957e-15\n"
     ]
    }
   ],
   "source": [
    "# posición de las articulaciones\n",
    "returnCode, pos1 = sim.simxGetJointPosition(clientID, joint1, sim.simx_opmode_blocking)\n",
    "print(pos1)"
   ]
  },
  {
   "cell_type": "markdown",
   "metadata": {},
   "source": [
    "<h3> 4. ... y movemos el robot</h3>\n",
    "Utilizando los manejadores, podemos enviar parámetros a los elementos."
   ]
  },
  {
   "cell_type": "code",
   "execution_count": null,
   "metadata": {},
   "outputs": [],
   "source": [
    "###########################\n",
    "## 0_GiroServoBase_Torax ##\n",
    "###########################\n",
    "\n",
    "#!/usr/bin/env python3\n",
    "import socket\n",
    "import time\n",
    "\n",
    "# conectamos\n",
    "clientID = connect(19999)\n",
    "\n",
    "# Definimos los datos iniciales\n",
    "HOST0 = '192.168.1.130'       # The server's hostname or IP address\n",
    "PORT0 = 65430                # The port used by the server\n",
    "\n",
    "while(True):\n",
    "    with socket.socket(socket.AF_INET, socket.SOCK_STREAM) as s0:\n",
    "        s0.connect((HOST0, PORT0))\n",
    "        \n",
    "        #Dato recibido\n",
    "        data0 = float(s0.recv(1024))\n",
    "        #print(data0)\n",
    "        \n",
    "        #La simulacion acepta radianes\n",
    "        dataR0 = data0*0.0175\n",
    "    \n",
    "        sim.simxSetJointTargetPosition(clientID, joint1, dataR0, sim.simx_opmode_oneshot)\n",
    "        #time.sleep(0.2)"
   ]
  },
  {
   "cell_type": "code",
   "execution_count": null,
   "metadata": {},
   "outputs": [],
   "source": [
    "##########################################\n",
    "## 1_GiroServoDelMedio_AntebrazoDerecho ##\n",
    "##########################################\n",
    "\n",
    "#!/usr/bin/env python3\n",
    "import socket\n",
    "import time\n",
    "\n",
    "# conectamos\n",
    "clientID = connect(19999)\n",
    "\n",
    "# Definimos los datos iniciales\n",
    "HOST1 = '192.168.1.131'       # The server's hostname or IP address\n",
    "PORT1 = 65431                # The port used by the server\n",
    "\n",
    "while(True):\n",
    "    with socket.socket(socket.AF_INET, socket.SOCK_STREAM) as s1:\n",
    "        s1.connect((HOST1, PORT1))\n",
    "        \n",
    "        #Dato recibido\n",
    "        data1 = float(s1.recv(1024))\n",
    "        #print(data1)\n",
    "        \n",
    "        #La simulacion acepta radianes\n",
    "        dataR1 = data1*0.0175\n",
    "    \n",
    "        sim.simxSetJointTargetPosition(clientID, joint2, dataR1, sim.simx_opmode_oneshot)\n",
    "        #time.sleep(0.2)"
   ]
  },
  {
   "cell_type": "code",
   "execution_count": null,
   "metadata": {},
   "outputs": [],
   "source": [
    "###############################\n",
    "## 2_GiroGripper_ManoDerecha ##\n",
    "###############################\n",
    "\n",
    "#!/usr/bin/env python3\n",
    "import socket\n",
    "import time\n",
    "\n",
    "# conectamos\n",
    "clientID = connect(19999)\n",
    "\n",
    "# Definimos los datos iniciales\n",
    "HOST2 = '192.168.1.132'       # The server's hostname or IP address\n",
    "PORT2 = 65432                # The port used by the server\n",
    "\n",
    "while(True):\n",
    "    with socket.socket(socket.AF_INET, socket.SOCK_STREAM) as s2:\n",
    "        s2.connect((HOST2, PORT2))\n",
    "        \n",
    "        #Dato recibido\n",
    "        data2 = float(s2.recv(1024))\n",
    "        #print(data2)\n",
    "        \n",
    "        #La simulacion acepta radianes\n",
    "        dataR2 = data2*0.0175\n",
    "    \n",
    "        sim.simxSetJointTargetPosition(clientID, end_effector, dataR2, sim.simx_opmode_oneshot)\n",
    "        #time.sleep(0.2)"
   ]
  },
  {
   "cell_type": "code",
   "execution_count": null,
   "metadata": {},
   "outputs": [],
   "source": [
    "#############################################################\n",
    "## 3_AlturaGripper-y-4_AperturaCierreGripper_ManoIzquierda ##\n",
    "#############################################################\n",
    "\n",
    "#!/usr/bin/env python3\n",
    "import socket\n",
    "import time\n",
    "\n",
    "# conectamos\n",
    "clientID = connect(19999)\n",
    "\n",
    "# Definimos los datos iniciales\n",
    "HOST3 = '192.168.1.133'       # The server's hostname or IP address\n",
    "PORT3 = 65433                # The port used by the server\n",
    "\n",
    "while(True):\n",
    "    with socket.socket(socket.AF_INET, socket.SOCK_STREAM) as s3:\n",
    "        s3.connect((HOST3, PORT3))\n",
    "        \n",
    "        #Dato recibido\n",
    "        data = (s3.recv(1024))\n",
    "        dataV = data.decode('ASCII')\n",
    "        \n",
    "        #Separar el string en partes\n",
    "        dataN = dataV.split(\"/\")\n",
    "        \n",
    "        #Altura Gripper\n",
    "        data3 =float(dataN[0])\n",
    "        #Apertura y cierre Gripper\n",
    "        data4 =float(dataN[1])\n",
    "        \n",
    "        #print(float(data3), float(data4))\n",
    "        \n",
    "        #La simulacion acepta radianes\n",
    "        data3 = data3*0.0175\n",
    "        #Escalamos los valores de la altura para evitar romper la simulación\n",
    "        data4 = data4*0.001\n",
    "    \n",
    "        sim.simxSetJointTargetPosition(clientID, joint1, data3, sim.simx_opmode_oneshot)\n",
    "        sim.simxSetJointTargetPosition(clientID, joint3, data4, sim.simx_opmode_oneshot)\n",
    "        #sim.simxSetJointTargetPosition(clientID, joint4, data4, sim.simx_opmode_oneshot)\n",
    "        #time.sleep(0.2)"
   ]
  },
  {
   "cell_type": "markdown",
   "metadata": {},
   "source": [
    "<h3> Prueba de 2 articulaciones moviendose simultáneamente</h3>\n",
    "\n",
    "<br>Se simula solo la articulación 1 y 2 \n",
    "<br>"
   ]
  },
  {
   "cell_type": "code",
   "execution_count": null,
   "metadata": {},
   "outputs": [],
   "source": [
    "#!/usr/bin/env python3\n",
    "import socket\n",
    "import time\n",
    "\n",
    "# conectamos\n",
    "clientID = connect(19999)\n",
    "\n",
    "# Definimos los datos iniciales\n",
    "HOST1 = '192.168.1.131'       # The server's hostname or IP address\n",
    "PORT1 = 65431                # The port used by the server\n",
    "\n",
    "# Definimos los datos iniciales\n",
    "HOST2 = '192.168.1.132'       # The server's hostname or IP address\n",
    "PORT2 = 65432                # The port used by the server\n",
    "\n",
    "while(True):\n",
    "    with socket.socket(socket.AF_INET, socket.SOCK_STREAM) as s1:\n",
    "        s1.connect((HOST1, PORT1))\n",
    "        \n",
    "        #Dato recibido\n",
    "        data1 = float(s1.recv(1024))\n",
    "        #print(data1)\n",
    "        \n",
    "        #La simulacion acepta radianes\n",
    "        dataR1 = data1*0.0175\n",
    "    \n",
    "        sim.simxSetJointTargetPosition(clientID, joint1, dataR1, sim.simx_opmode_oneshot)\n",
    "        #time.sleep(0.2)\n",
    "        \n",
    "    with socket.socket(socket.AF_INET, socket.SOCK_STREAM) as s2:\n",
    "        s2.connect((HOST2, PORT2))\n",
    "        \n",
    "        #Dato recibido\n",
    "        data2 = float(s2.recv(1024))\n",
    "        #print(data2)\n",
    "        \n",
    "        #La simulacion acepta radianes\n",
    "        dataR2 = data2*0.0175\n",
    "    \n",
    "        #sim.simxSetJointTargetPosition(clientID, end_effector, dataR2, sim.simx_opmode_oneshot)\n",
    "        #time.sleep(0.2)\n",
    "        \n",
    "        #PROBANDO\n",
    "        sim.simxSetJointTargetPosition(clientID, joint2, dataR2, sim.simx_opmode_oneshot)"
   ]
  },
  {
   "cell_type": "markdown",
   "metadata": {},
   "source": [
    "<h3> Prueba de 3 articulaciones moviendose simultáneamente</h3>\n",
    "\n",
    "<br>Se simula solo la articulación 0, 1 y 3 \n",
    "<br>"
   ]
  },
  {
   "cell_type": "code",
   "execution_count": null,
   "metadata": {},
   "outputs": [
    {
     "name": "stdout",
     "output_type": "stream",
     "text": [
      "conectado a 19999\n"
     ]
    }
   ],
   "source": [
    "#!/usr/bin/env python3\n",
    "import socket\n",
    "import time\n",
    "\n",
    "# conectamos\n",
    "clientID = connect(19999)\n",
    "\n",
    "# Articulación 1\n",
    "HOST1 = '192.168.1.131'       # The server's hostname or IP address\n",
    "PORT1 = 65431                # The port used by the server\n",
    "\n",
    "# Articulación 0\n",
    "HOST0 = '192.168.1.130'       # The server's hostname or IP address\n",
    "PORT0 = 65430                # The port used by the server\n",
    "\n",
    "# Articulación 3\n",
    "HOST3 = '192.168.1.133'       # The server's hostname or IP address\n",
    "PORT3 = 65433                # The port used by the server\n",
    "\n",
    "while(True):\n",
    "    #with socket.socket(socket.AF_INET, socket.SOCK_STREAM) as s0:\n",
    "    #    s0.connect((HOST0, PORT0))\n",
    "        \n",
    "    #    #Dato recibido\n",
    "    #    data0 = float(s0.recv(1024))\n",
    "    #    #print(data0)\n",
    "        \n",
    "    #    #La simulacion acepta radianes\n",
    "    #    dataR0 = data0*0.0175\n",
    "\n",
    "    #    #Colocamos signo negativo para ivertir el giro\n",
    "    #    sim.simxSetJointTargetPosition(clientID, joint1, -dataR0, sim.simx_opmode_oneshot)\n",
    "    #    #time.sleep(0.2)\n",
    "        \n",
    "    with socket.socket(socket.AF_INET, socket.SOCK_STREAM) as s1:\n",
    "        s1.connect((HOST1, PORT1))\n",
    "                \n",
    "        #Dato recibido\n",
    "        data = (s1.recv(1024))\n",
    "        dataV = data.decode('ASCII')\n",
    "                \n",
    "        #Separar el string en partes\n",
    "        dataN = dataV.split(\"/\")\n",
    "                \n",
    "        #Altura Gripper\n",
    "        data1 =float(dataN[0])\n",
    "        #Apertura y cierre Gripper\n",
    "        data2 =float(dataN[1])\n",
    "                \n",
    "        #print(float(data3), float(data4))\n",
    "                \n",
    "        #La simulacion acepta radianes\n",
    "        dataR1 = data1*0.0175\n",
    "        #Escalamos los valores de la altura para evitar romper la simulacion\n",
    "        dataR2 = data2*0.0175\n",
    "                \n",
    "        #Movimiento relativo\n",
    "        dataRR1 = dataR1 - dataR0\n",
    "        dataRR2 = dataR2 - dataR1 - dataR0\n",
    "        \n",
    "        #Colocamos signo negativo para ivertir el giro\n",
    "        sim.simxSetJointTargetPosition(clientID, joint1, -dataRR1, sim.simx_opmode_oneshot)\n",
    "        sim.simxSetJointTargetPosition(clientID, joint3, -dataRR2*0.05, sim.simx_opmode_oneshot)\n",
    "        #time.sleep(0.2)\n",
    "            \n",
    "    #with socket.socket(socket.AF_INET, socket.SOCK_STREAM) as s3:\n",
    "    #    s3.connect((HOST3, PORT3))\n",
    "        \n",
    "    #    #Dato recibido\n",
    "    #    data = (s3.recv(1024))\n",
    "    #    dataV = data.decode('ASCII')\n",
    "        \n",
    "    #    #Separar el string en partes\n",
    "    #    dataN = dataV.split(\"/\")\n",
    "        \n",
    "    #    #Altura Gripper\n",
    "    #    data3 =float(dataN[0])\n",
    "    #    #Apertura y cierre Gripper\n",
    "    #    data4 =float(dataN[1])\n",
    "        \n",
    "    #    #print(float(data3), float(data4))\n",
    "        \n",
    "    #    #La simulacion acepta radianes\n",
    "    #    data3 = data3*0.0175\n",
    "    #    #Escalamos los valores de la altura para evitar romper la simulación\n",
    "    #    data4 = data4*0.1\n",
    "    \n",
    "    #    sim.simxSetJointTargetPosition(clientID, joint3, data3, sim.simx_opmode_oneshot)\n",
    "    #    #sim.simxSetJointTargetPosition(clientID, joint4, data4, sim.simx_opmode_oneshot)\n",
    "    #    #time.sleep(0.2)\n"
   ]
  },
  {
   "cell_type": "markdown",
   "metadata": {},
   "source": [
    "<h3> Gráfica de la trayectoria recorrida por la articulación</h3>\n",
    "\n",
    "<br>Se guardan todas las posiciones (x,y,z) de la trayectoria del gripper en una lista, una vez finalizada la simulación se realiza el gráfico. \n",
    "<br>"
   ]
  },
  {
   "cell_type": "code",
   "execution_count": null,
   "metadata": {},
   "outputs": [],
   "source": [
    "import socket\n",
    "import time\n",
    "\n",
    "# Conectamos\n",
    "clientID = connect(19999)\n",
    "\n",
    "# Posiciones\n",
    "posiciones = list()\n",
    "\n",
    "# Definimos los datos iniciales\n",
    "HOST2 = '192.168.1.132'       # The server's hostname or IP address\n",
    "PORT2 = 65432                # The port used by the server\n",
    "\n",
    "while(True):\n",
    "    with socket.socket(socket.AF_INET, socket.SOCK_STREAM) as s2:\n",
    "        s2.connect((HOST2, PORT2))\n",
    "        \n",
    "        #Guardar posicion actual\n",
    "        retCode,pos=sim.simxGetObjectPosition(clientID, end_effector, -1, sim.simx_opmode_blocking)\n",
    "        posiciones.append(pos)\n",
    "        \n",
    "        #Dato recibido\n",
    "        data2 = float(s2.recv(1024))\n",
    "        #print(data2)\n",
    "        \n",
    "        #La simulacion acepta radianes\n",
    "        dataR2 = data2*0.0175\n",
    "    \n",
    "        sim.simxSetJointTargetPosition(clientID, end_effector, dataR2, sim.simx_opmode_oneshot)\n",
    "        #time.sleep(0.2)"
   ]
  },
  {
   "cell_type": "code",
   "execution_count": 12,
   "metadata": {},
   "outputs": [
    {
     "name": "stdout",
     "output_type": "stream",
     "text": [
      "[[0.18509118258953094, -0.1446687877178192, 0.5720000863075256]]\n"
     ]
    }
   ],
   "source": [
    "#Graficar posiciones\n",
    "%matplotlib notebook\n",
    "import matplotlib.pyplot as plt\n",
    "from mpl_toolkits.mplot3d import axes3d, Axes3D\n",
    "\n",
    "#Mostrar posiciones\n",
    "#print(posiciones)\n",
    "\n",
    "#Graficar trayectoria recorrida en 3D\n",
    "fig = plt.figure()\n",
    "ax = Axes3D(fig)\n",
    "ax.plot(posiciones[0], posiciones[1], posiciones[2], color=\"red\")\n",
    "plt.show()"
   ]
  },
  {
   "cell_type": "markdown",
   "metadata": {},
   "source": [
    "<h3> Conexión Arduino y Python por serial</h3>\n",
    "\n",
    "<br>Un script en Python envia datos al robot físico\n",
    "<br>"
   ]
  },
  {
   "cell_type": "code",
   "execution_count": null,
   "metadata": {},
   "outputs": [],
   "source": [
    "import serial\n",
    "import time\n",
    "\n",
    "#Puerto\n",
    "puerto = \"/dev/ttyUSB0\"\n",
    "\n",
    "i = 0\n",
    "for i in range(10):\n",
    "    i+=10\n",
    "    ser = serial.Serial(puerto,9600)\n",
    "    ser.write(i)\n",
    "    ser.close()\n",
    "    time.sleep(0.5)"
   ]
  },
  {
   "cell_type": "code",
   "execution_count": null,
   "metadata": {},
   "outputs": [],
   "source": [
    "#!/usr/bin/env python3\n",
    "import serial\n",
    "import socket\n",
    "import time\n",
    "\n",
    "# Definimos los datos iniciales\n",
    "HOST0 = '192.168.1.130'       # The server's hostname or IP address\n",
    "PORT0 = 65430                # The port used by the server\n",
    "\n",
    "#Puerto Serial Arduino\n",
    "puerto = \"/dev/ttyUSB1\"\n",
    "arduino = serial.Serial(puerto, 9600)   # create serial object named arduino\n",
    "\n",
    "while(True):\n",
    "    with socket.socket(socket.AF_INET, socket.SOCK_STREAM) as s0:\n",
    "        s0.connect((HOST0, PORT0))\n",
    "        \n",
    "        #Dato recibido\n",
    "        data0 = float(s0.recv(1024))\n",
    "        #print(data0)\n",
    "        \n",
    "        arduino.write(bytes(data0,'utf-8'))           # write position to serial port\n",
    "        reachedPos = str(arduino.readline())            # read serial port for arduino echo\n",
    "        print(reachedPos)"
   ]
  }
 ],
 "metadata": {
  "kernelspec": {
   "display_name": "Python 3",
   "language": "python",
   "name": "python3"
  },
  "language_info": {
   "codemirror_mode": {
    "name": "ipython",
    "version": 3
   },
   "file_extension": ".py",
   "mimetype": "text/x-python",
   "name": "python",
   "nbconvert_exporter": "python",
   "pygments_lexer": "ipython3",
   "version": "3.6.9"
  }
 },
 "nbformat": 4,
 "nbformat_minor": 4
}
